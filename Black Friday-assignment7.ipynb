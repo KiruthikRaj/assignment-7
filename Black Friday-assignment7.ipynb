{
 "cells": [
  {
   "cell_type": "code",
   "execution_count": 1,
   "id": "efdaf073",
   "metadata": {},
   "outputs": [],
   "source": [
    "import pandas as pd\n",
    "import numpy as np\n",
    "from scipy import stats \n",
    "import matplotlib.pyplot as plt\n",
    "from scipy.stats import pearsonr\n",
    "import statsmodels.api as sm \n",
    "import seaborn as sns\n",
    "from sklearn import datasets\n",
    "from sklearn.model_selection import train_test_split\n",
    "from sklearn.linear_model import LinearRegression\n",
    "from sklearn.preprocessing import MinMaxScaler\n",
    "from sklearn import datasets,linear_model,metrics\n",
    "from sklearn.metrics import mean_squared_error,confusion_matrix,accuracy_score,classification_report\n",
    "from sklearn.linear_model import LogisticRegression\n",
    "from sklearn.tree import DecisionTreeClassifier,DecisionTreeRegressor \n",
    "from sklearn.datasets import make_classification\n",
    "from sklearn.datasets import make_hastie_10_2\n",
    "from sklearn.ensemble import GradientBoostingClassifier,AdaBoostClassifier,RandomForestClassifier\n",
    "from sklearn.datasets import make_regression\n",
    "from sklearn.ensemble import GradientBoostingRegressor,AdaBoostRegressor,RandomForestRegressor\n",
    "from sklearn.decomposition import PCA"
   ]
  },
  {
   "cell_type": "code",
   "execution_count": 2,
   "id": "cfca0070",
   "metadata": {},
   "outputs": [],
   "source": [
    "data=pd.read_csv(r\"C:\\Users\\kirut\\Downloads\\train.csv\")"
   ]
  },
  {
   "cell_type": "code",
   "execution_count": 3,
   "id": "ee4a3882",
   "metadata": {},
   "outputs": [
    {
     "data": {
      "text/html": [
       "<div>\n",
       "<style scoped>\n",
       "    .dataframe tbody tr th:only-of-type {\n",
       "        vertical-align: middle;\n",
       "    }\n",
       "\n",
       "    .dataframe tbody tr th {\n",
       "        vertical-align: top;\n",
       "    }\n",
       "\n",
       "    .dataframe thead th {\n",
       "        text-align: right;\n",
       "    }\n",
       "</style>\n",
       "<table border=\"1\" class=\"dataframe\">\n",
       "  <thead>\n",
       "    <tr style=\"text-align: right;\">\n",
       "      <th></th>\n",
       "      <th>User_ID</th>\n",
       "      <th>Product_ID</th>\n",
       "      <th>Gender</th>\n",
       "      <th>Age</th>\n",
       "      <th>Occupation</th>\n",
       "      <th>City_Category</th>\n",
       "      <th>Stay_In_Current_City_Years</th>\n",
       "      <th>Marital_Status</th>\n",
       "      <th>Product_Category_1</th>\n",
       "      <th>Product_Category_2</th>\n",
       "      <th>Product_Category_3</th>\n",
       "      <th>Purchase</th>\n",
       "    </tr>\n",
       "  </thead>\n",
       "  <tbody>\n",
       "    <tr>\n",
       "      <th>0</th>\n",
       "      <td>1000001</td>\n",
       "      <td>P00069042</td>\n",
       "      <td>F</td>\n",
       "      <td>0-17</td>\n",
       "      <td>10</td>\n",
       "      <td>A</td>\n",
       "      <td>2</td>\n",
       "      <td>0</td>\n",
       "      <td>3</td>\n",
       "      <td>NaN</td>\n",
       "      <td>NaN</td>\n",
       "      <td>8370</td>\n",
       "    </tr>\n",
       "    <tr>\n",
       "      <th>1</th>\n",
       "      <td>1000001</td>\n",
       "      <td>P00248942</td>\n",
       "      <td>F</td>\n",
       "      <td>0-17</td>\n",
       "      <td>10</td>\n",
       "      <td>A</td>\n",
       "      <td>2</td>\n",
       "      <td>0</td>\n",
       "      <td>1</td>\n",
       "      <td>6.0</td>\n",
       "      <td>14.0</td>\n",
       "      <td>15200</td>\n",
       "    </tr>\n",
       "    <tr>\n",
       "      <th>2</th>\n",
       "      <td>1000001</td>\n",
       "      <td>P00087842</td>\n",
       "      <td>F</td>\n",
       "      <td>0-17</td>\n",
       "      <td>10</td>\n",
       "      <td>A</td>\n",
       "      <td>2</td>\n",
       "      <td>0</td>\n",
       "      <td>12</td>\n",
       "      <td>NaN</td>\n",
       "      <td>NaN</td>\n",
       "      <td>1422</td>\n",
       "    </tr>\n",
       "    <tr>\n",
       "      <th>3</th>\n",
       "      <td>1000001</td>\n",
       "      <td>P00085442</td>\n",
       "      <td>F</td>\n",
       "      <td>0-17</td>\n",
       "      <td>10</td>\n",
       "      <td>A</td>\n",
       "      <td>2</td>\n",
       "      <td>0</td>\n",
       "      <td>12</td>\n",
       "      <td>14.0</td>\n",
       "      <td>NaN</td>\n",
       "      <td>1057</td>\n",
       "    </tr>\n",
       "    <tr>\n",
       "      <th>4</th>\n",
       "      <td>1000002</td>\n",
       "      <td>P00285442</td>\n",
       "      <td>M</td>\n",
       "      <td>55+</td>\n",
       "      <td>16</td>\n",
       "      <td>C</td>\n",
       "      <td>4+</td>\n",
       "      <td>0</td>\n",
       "      <td>8</td>\n",
       "      <td>NaN</td>\n",
       "      <td>NaN</td>\n",
       "      <td>7969</td>\n",
       "    </tr>\n",
       "  </tbody>\n",
       "</table>\n",
       "</div>"
      ],
      "text/plain": [
       "   User_ID Product_ID Gender   Age  Occupation City_Category  \\\n",
       "0  1000001  P00069042      F  0-17          10             A   \n",
       "1  1000001  P00248942      F  0-17          10             A   \n",
       "2  1000001  P00087842      F  0-17          10             A   \n",
       "3  1000001  P00085442      F  0-17          10             A   \n",
       "4  1000002  P00285442      M   55+          16             C   \n",
       "\n",
       "  Stay_In_Current_City_Years  Marital_Status  Product_Category_1  \\\n",
       "0                          2               0                   3   \n",
       "1                          2               0                   1   \n",
       "2                          2               0                  12   \n",
       "3                          2               0                  12   \n",
       "4                         4+               0                   8   \n",
       "\n",
       "   Product_Category_2  Product_Category_3  Purchase  \n",
       "0                 NaN                 NaN      8370  \n",
       "1                 6.0                14.0     15200  \n",
       "2                 NaN                 NaN      1422  \n",
       "3                14.0                 NaN      1057  \n",
       "4                 NaN                 NaN      7969  "
      ]
     },
     "execution_count": 3,
     "metadata": {},
     "output_type": "execute_result"
    }
   ],
   "source": [
    "data.head()"
   ]
  },
  {
   "cell_type": "code",
   "execution_count": 4,
   "id": "2855bb90",
   "metadata": {},
   "outputs": [
    {
     "name": "stdout",
     "output_type": "stream",
     "text": [
      "<class 'pandas.core.frame.DataFrame'>\n",
      "RangeIndex: 550068 entries, 0 to 550067\n",
      "Data columns (total 12 columns):\n",
      " #   Column                      Non-Null Count   Dtype  \n",
      "---  ------                      --------------   -----  \n",
      " 0   User_ID                     550068 non-null  int64  \n",
      " 1   Product_ID                  550068 non-null  object \n",
      " 2   Gender                      550068 non-null  object \n",
      " 3   Age                         550068 non-null  object \n",
      " 4   Occupation                  550068 non-null  int64  \n",
      " 5   City_Category               550068 non-null  object \n",
      " 6   Stay_In_Current_City_Years  550068 non-null  object \n",
      " 7   Marital_Status              550068 non-null  int64  \n",
      " 8   Product_Category_1          550068 non-null  int64  \n",
      " 9   Product_Category_2          376430 non-null  float64\n",
      " 10  Product_Category_3          166821 non-null  float64\n",
      " 11  Purchase                    550068 non-null  int64  \n",
      "dtypes: float64(2), int64(5), object(5)\n",
      "memory usage: 50.4+ MB\n"
     ]
    }
   ],
   "source": [
    "data.info()"
   ]
  },
  {
   "cell_type": "code",
   "execution_count": 5,
   "id": "9feb77f6",
   "metadata": {},
   "outputs": [
    {
     "data": {
      "text/html": [
       "<div>\n",
       "<style scoped>\n",
       "    .dataframe tbody tr th:only-of-type {\n",
       "        vertical-align: middle;\n",
       "    }\n",
       "\n",
       "    .dataframe tbody tr th {\n",
       "        vertical-align: top;\n",
       "    }\n",
       "\n",
       "    .dataframe thead th {\n",
       "        text-align: right;\n",
       "    }\n",
       "</style>\n",
       "<table border=\"1\" class=\"dataframe\">\n",
       "  <thead>\n",
       "    <tr style=\"text-align: right;\">\n",
       "      <th></th>\n",
       "      <th>User_ID</th>\n",
       "      <th>Occupation</th>\n",
       "      <th>Marital_Status</th>\n",
       "      <th>Product_Category_1</th>\n",
       "      <th>Product_Category_2</th>\n",
       "      <th>Product_Category_3</th>\n",
       "      <th>Purchase</th>\n",
       "    </tr>\n",
       "  </thead>\n",
       "  <tbody>\n",
       "    <tr>\n",
       "      <th>count</th>\n",
       "      <td>5.500680e+05</td>\n",
       "      <td>550068.000000</td>\n",
       "      <td>550068.000000</td>\n",
       "      <td>550068.000000</td>\n",
       "      <td>376430.000000</td>\n",
       "      <td>166821.000000</td>\n",
       "      <td>550068.000000</td>\n",
       "    </tr>\n",
       "    <tr>\n",
       "      <th>mean</th>\n",
       "      <td>1.003029e+06</td>\n",
       "      <td>8.076707</td>\n",
       "      <td>0.409653</td>\n",
       "      <td>5.404270</td>\n",
       "      <td>9.842329</td>\n",
       "      <td>12.668243</td>\n",
       "      <td>9263.968713</td>\n",
       "    </tr>\n",
       "    <tr>\n",
       "      <th>std</th>\n",
       "      <td>1.727592e+03</td>\n",
       "      <td>6.522660</td>\n",
       "      <td>0.491770</td>\n",
       "      <td>3.936211</td>\n",
       "      <td>5.086590</td>\n",
       "      <td>4.125338</td>\n",
       "      <td>5023.065394</td>\n",
       "    </tr>\n",
       "    <tr>\n",
       "      <th>min</th>\n",
       "      <td>1.000001e+06</td>\n",
       "      <td>0.000000</td>\n",
       "      <td>0.000000</td>\n",
       "      <td>1.000000</td>\n",
       "      <td>2.000000</td>\n",
       "      <td>3.000000</td>\n",
       "      <td>12.000000</td>\n",
       "    </tr>\n",
       "    <tr>\n",
       "      <th>25%</th>\n",
       "      <td>1.001516e+06</td>\n",
       "      <td>2.000000</td>\n",
       "      <td>0.000000</td>\n",
       "      <td>1.000000</td>\n",
       "      <td>5.000000</td>\n",
       "      <td>9.000000</td>\n",
       "      <td>5823.000000</td>\n",
       "    </tr>\n",
       "    <tr>\n",
       "      <th>50%</th>\n",
       "      <td>1.003077e+06</td>\n",
       "      <td>7.000000</td>\n",
       "      <td>0.000000</td>\n",
       "      <td>5.000000</td>\n",
       "      <td>9.000000</td>\n",
       "      <td>14.000000</td>\n",
       "      <td>8047.000000</td>\n",
       "    </tr>\n",
       "    <tr>\n",
       "      <th>75%</th>\n",
       "      <td>1.004478e+06</td>\n",
       "      <td>14.000000</td>\n",
       "      <td>1.000000</td>\n",
       "      <td>8.000000</td>\n",
       "      <td>15.000000</td>\n",
       "      <td>16.000000</td>\n",
       "      <td>12054.000000</td>\n",
       "    </tr>\n",
       "    <tr>\n",
       "      <th>max</th>\n",
       "      <td>1.006040e+06</td>\n",
       "      <td>20.000000</td>\n",
       "      <td>1.000000</td>\n",
       "      <td>20.000000</td>\n",
       "      <td>18.000000</td>\n",
       "      <td>18.000000</td>\n",
       "      <td>23961.000000</td>\n",
       "    </tr>\n",
       "  </tbody>\n",
       "</table>\n",
       "</div>"
      ],
      "text/plain": [
       "            User_ID     Occupation  Marital_Status  Product_Category_1  \\\n",
       "count  5.500680e+05  550068.000000   550068.000000       550068.000000   \n",
       "mean   1.003029e+06       8.076707        0.409653            5.404270   \n",
       "std    1.727592e+03       6.522660        0.491770            3.936211   \n",
       "min    1.000001e+06       0.000000        0.000000            1.000000   \n",
       "25%    1.001516e+06       2.000000        0.000000            1.000000   \n",
       "50%    1.003077e+06       7.000000        0.000000            5.000000   \n",
       "75%    1.004478e+06      14.000000        1.000000            8.000000   \n",
       "max    1.006040e+06      20.000000        1.000000           20.000000   \n",
       "\n",
       "       Product_Category_2  Product_Category_3       Purchase  \n",
       "count       376430.000000       166821.000000  550068.000000  \n",
       "mean             9.842329           12.668243    9263.968713  \n",
       "std              5.086590            4.125338    5023.065394  \n",
       "min              2.000000            3.000000      12.000000  \n",
       "25%              5.000000            9.000000    5823.000000  \n",
       "50%              9.000000           14.000000    8047.000000  \n",
       "75%             15.000000           16.000000   12054.000000  \n",
       "max             18.000000           18.000000   23961.000000  "
      ]
     },
     "execution_count": 5,
     "metadata": {},
     "output_type": "execute_result"
    }
   ],
   "source": [
    "data.describe()"
   ]
  },
  {
   "cell_type": "code",
   "execution_count": 6,
   "id": "fe1903ae",
   "metadata": {},
   "outputs": [
    {
     "data": {
      "text/plain": [
       "User_ID                            0\n",
       "Product_ID                         0\n",
       "Gender                             0\n",
       "Age                                0\n",
       "Occupation                         0\n",
       "City_Category                      0\n",
       "Stay_In_Current_City_Years         0\n",
       "Marital_Status                     0\n",
       "Product_Category_1                 0\n",
       "Product_Category_2            173638\n",
       "Product_Category_3            383247\n",
       "Purchase                           0\n",
       "dtype: int64"
      ]
     },
     "execution_count": 6,
     "metadata": {},
     "output_type": "execute_result"
    }
   ],
   "source": [
    "data.isnull().sum()"
   ]
  },
  {
   "cell_type": "code",
   "execution_count": 7,
   "id": "1d795954",
   "metadata": {},
   "outputs": [
    {
     "data": {
      "text/plain": [
       "array([nan,  6., 14.,  2.,  8., 15., 16., 11.,  5.,  3.,  4., 12.,  9.,\n",
       "       10., 17., 13.,  7., 18.])"
      ]
     },
     "execution_count": 7,
     "metadata": {},
     "output_type": "execute_result"
    }
   ],
   "source": [
    "data.Product_Category_2.unique()"
   ]
  },
  {
   "cell_type": "code",
   "execution_count": 8,
   "id": "ae8deda1",
   "metadata": {},
   "outputs": [
    {
     "data": {
      "text/plain": [
       "array([nan, 14., 17.,  5.,  4., 16., 15.,  8.,  9., 13.,  6., 12.,  3.,\n",
       "       18., 11., 10.])"
      ]
     },
     "execution_count": 8,
     "metadata": {},
     "output_type": "execute_result"
    }
   ],
   "source": [
    "data.Product_Category_3.unique()"
   ]
  },
  {
   "cell_type": "code",
   "execution_count": 9,
   "id": "2b133445",
   "metadata": {},
   "outputs": [],
   "source": [
    "data.Product_Category_2.fillna(data.Product_Category_2.fillna(\"others\"),inplace=True)"
   ]
  },
  {
   "cell_type": "code",
   "execution_count": 10,
   "id": "3ca718c5",
   "metadata": {},
   "outputs": [],
   "source": [
    "#data.Product_Category_3.fillna(data.Product_Category_3.mode().max(),inplace=True)"
   ]
  },
  {
   "cell_type": "code",
   "execution_count": 11,
   "id": "98a70823",
   "metadata": {
    "scrolled": true
   },
   "outputs": [
    {
     "data": {
      "text/plain": [
       "User_ID                       0.000000\n",
       "Product_ID                    0.000000\n",
       "Gender                        0.000000\n",
       "Age                           0.000000\n",
       "Occupation                    0.000000\n",
       "City_Category                 0.000000\n",
       "Stay_In_Current_City_Years    0.000000\n",
       "Marital_Status                0.000000\n",
       "Product_Category_1            0.000000\n",
       "Product_Category_2            0.000000\n",
       "Product_Category_3            0.696727\n",
       "Purchase                      0.000000\n",
       "dtype: float64"
      ]
     },
     "execution_count": 11,
     "metadata": {},
     "output_type": "execute_result"
    }
   ],
   "source": [
    "data.isnull().mean()"
   ]
  },
  {
   "cell_type": "code",
   "execution_count": 12,
   "id": "c5db99d1",
   "metadata": {},
   "outputs": [],
   "source": [
    "x=data.iloc[0:,2:10]\n",
    "y=data.Purchase"
   ]
  },
  {
   "cell_type": "code",
   "execution_count": 13,
   "id": "f3ddbe28",
   "metadata": {},
   "outputs": [
    {
     "data": {
      "text/html": [
       "<div>\n",
       "<style scoped>\n",
       "    .dataframe tbody tr th:only-of-type {\n",
       "        vertical-align: middle;\n",
       "    }\n",
       "\n",
       "    .dataframe tbody tr th {\n",
       "        vertical-align: top;\n",
       "    }\n",
       "\n",
       "    .dataframe thead th {\n",
       "        text-align: right;\n",
       "    }\n",
       "</style>\n",
       "<table border=\"1\" class=\"dataframe\">\n",
       "  <thead>\n",
       "    <tr style=\"text-align: right;\">\n",
       "      <th></th>\n",
       "      <th>Gender</th>\n",
       "      <th>Age</th>\n",
       "      <th>Occupation</th>\n",
       "      <th>City_Category</th>\n",
       "      <th>Stay_In_Current_City_Years</th>\n",
       "      <th>Marital_Status</th>\n",
       "      <th>Product_Category_1</th>\n",
       "      <th>Product_Category_2</th>\n",
       "    </tr>\n",
       "  </thead>\n",
       "  <tbody>\n",
       "    <tr>\n",
       "      <th>0</th>\n",
       "      <td>F</td>\n",
       "      <td>0-17</td>\n",
       "      <td>10</td>\n",
       "      <td>A</td>\n",
       "      <td>2</td>\n",
       "      <td>0</td>\n",
       "      <td>3</td>\n",
       "      <td>others</td>\n",
       "    </tr>\n",
       "    <tr>\n",
       "      <th>1</th>\n",
       "      <td>F</td>\n",
       "      <td>0-17</td>\n",
       "      <td>10</td>\n",
       "      <td>A</td>\n",
       "      <td>2</td>\n",
       "      <td>0</td>\n",
       "      <td>1</td>\n",
       "      <td>6.0</td>\n",
       "    </tr>\n",
       "    <tr>\n",
       "      <th>2</th>\n",
       "      <td>F</td>\n",
       "      <td>0-17</td>\n",
       "      <td>10</td>\n",
       "      <td>A</td>\n",
       "      <td>2</td>\n",
       "      <td>0</td>\n",
       "      <td>12</td>\n",
       "      <td>others</td>\n",
       "    </tr>\n",
       "    <tr>\n",
       "      <th>3</th>\n",
       "      <td>F</td>\n",
       "      <td>0-17</td>\n",
       "      <td>10</td>\n",
       "      <td>A</td>\n",
       "      <td>2</td>\n",
       "      <td>0</td>\n",
       "      <td>12</td>\n",
       "      <td>14.0</td>\n",
       "    </tr>\n",
       "    <tr>\n",
       "      <th>4</th>\n",
       "      <td>M</td>\n",
       "      <td>55+</td>\n",
       "      <td>16</td>\n",
       "      <td>C</td>\n",
       "      <td>4+</td>\n",
       "      <td>0</td>\n",
       "      <td>8</td>\n",
       "      <td>others</td>\n",
       "    </tr>\n",
       "  </tbody>\n",
       "</table>\n",
       "</div>"
      ],
      "text/plain": [
       "  Gender   Age  Occupation City_Category Stay_In_Current_City_Years  \\\n",
       "0      F  0-17          10             A                          2   \n",
       "1      F  0-17          10             A                          2   \n",
       "2      F  0-17          10             A                          2   \n",
       "3      F  0-17          10             A                          2   \n",
       "4      M   55+          16             C                         4+   \n",
       "\n",
       "   Marital_Status  Product_Category_1 Product_Category_2  \n",
       "0               0                   3             others  \n",
       "1               0                   1                6.0  \n",
       "2               0                  12             others  \n",
       "3               0                  12               14.0  \n",
       "4               0                   8             others  "
      ]
     },
     "execution_count": 13,
     "metadata": {},
     "output_type": "execute_result"
    }
   ],
   "source": [
    "x.head()"
   ]
  },
  {
   "cell_type": "code",
   "execution_count": 14,
   "id": "37708d8f",
   "metadata": {},
   "outputs": [],
   "source": [
    "trainx,testx,trainy,testy = train_test_split(x,y,test_size = 0.2)\n",
    " \n",
    "# trainx, testx, trainy, testy = train_test_split(y,y,test_size=0.2)"
   ]
  },
  {
   "cell_type": "code",
   "execution_count": 15,
   "id": "00a00d87",
   "metadata": {},
   "outputs": [],
   "source": [
    "dummy=pd.get_dummies(x)\n",
    "dummy=pd.get_dummies(dummy,columns=[\"Occupation\",\"Product_Category_1\"])\n"
   ]
  },
  {
   "cell_type": "code",
   "execution_count": 16,
   "id": "0f2bdd96",
   "metadata": {},
   "outputs": [
    {
     "data": {
      "text/html": [
       "<div>\n",
       "<style scoped>\n",
       "    .dataframe tbody tr th:only-of-type {\n",
       "        vertical-align: middle;\n",
       "    }\n",
       "\n",
       "    .dataframe tbody tr th {\n",
       "        vertical-align: top;\n",
       "    }\n",
       "\n",
       "    .dataframe thead th {\n",
       "        text-align: right;\n",
       "    }\n",
       "</style>\n",
       "<table border=\"1\" class=\"dataframe\">\n",
       "  <thead>\n",
       "    <tr style=\"text-align: right;\">\n",
       "      <th></th>\n",
       "      <th>Marital_Status</th>\n",
       "      <th>Gender_F</th>\n",
       "      <th>Gender_M</th>\n",
       "      <th>Age_0-17</th>\n",
       "      <th>Age_18-25</th>\n",
       "      <th>Age_26-35</th>\n",
       "      <th>Age_36-45</th>\n",
       "      <th>Age_46-50</th>\n",
       "      <th>Age_51-55</th>\n",
       "      <th>Age_55+</th>\n",
       "      <th>...</th>\n",
       "      <th>Product_Category_1_11</th>\n",
       "      <th>Product_Category_1_12</th>\n",
       "      <th>Product_Category_1_13</th>\n",
       "      <th>Product_Category_1_14</th>\n",
       "      <th>Product_Category_1_15</th>\n",
       "      <th>Product_Category_1_16</th>\n",
       "      <th>Product_Category_1_17</th>\n",
       "      <th>Product_Category_1_18</th>\n",
       "      <th>Product_Category_1_19</th>\n",
       "      <th>Product_Category_1_20</th>\n",
       "    </tr>\n",
       "  </thead>\n",
       "  <tbody>\n",
       "    <tr>\n",
       "      <th>0</th>\n",
       "      <td>0</td>\n",
       "      <td>1</td>\n",
       "      <td>0</td>\n",
       "      <td>1</td>\n",
       "      <td>0</td>\n",
       "      <td>0</td>\n",
       "      <td>0</td>\n",
       "      <td>0</td>\n",
       "      <td>0</td>\n",
       "      <td>0</td>\n",
       "      <td>...</td>\n",
       "      <td>0</td>\n",
       "      <td>0</td>\n",
       "      <td>0</td>\n",
       "      <td>0</td>\n",
       "      <td>0</td>\n",
       "      <td>0</td>\n",
       "      <td>0</td>\n",
       "      <td>0</td>\n",
       "      <td>0</td>\n",
       "      <td>0</td>\n",
       "    </tr>\n",
       "    <tr>\n",
       "      <th>1</th>\n",
       "      <td>0</td>\n",
       "      <td>1</td>\n",
       "      <td>0</td>\n",
       "      <td>1</td>\n",
       "      <td>0</td>\n",
       "      <td>0</td>\n",
       "      <td>0</td>\n",
       "      <td>0</td>\n",
       "      <td>0</td>\n",
       "      <td>0</td>\n",
       "      <td>...</td>\n",
       "      <td>0</td>\n",
       "      <td>0</td>\n",
       "      <td>0</td>\n",
       "      <td>0</td>\n",
       "      <td>0</td>\n",
       "      <td>0</td>\n",
       "      <td>0</td>\n",
       "      <td>0</td>\n",
       "      <td>0</td>\n",
       "      <td>0</td>\n",
       "    </tr>\n",
       "    <tr>\n",
       "      <th>2</th>\n",
       "      <td>0</td>\n",
       "      <td>1</td>\n",
       "      <td>0</td>\n",
       "      <td>1</td>\n",
       "      <td>0</td>\n",
       "      <td>0</td>\n",
       "      <td>0</td>\n",
       "      <td>0</td>\n",
       "      <td>0</td>\n",
       "      <td>0</td>\n",
       "      <td>...</td>\n",
       "      <td>0</td>\n",
       "      <td>1</td>\n",
       "      <td>0</td>\n",
       "      <td>0</td>\n",
       "      <td>0</td>\n",
       "      <td>0</td>\n",
       "      <td>0</td>\n",
       "      <td>0</td>\n",
       "      <td>0</td>\n",
       "      <td>0</td>\n",
       "    </tr>\n",
       "    <tr>\n",
       "      <th>3</th>\n",
       "      <td>0</td>\n",
       "      <td>1</td>\n",
       "      <td>0</td>\n",
       "      <td>1</td>\n",
       "      <td>0</td>\n",
       "      <td>0</td>\n",
       "      <td>0</td>\n",
       "      <td>0</td>\n",
       "      <td>0</td>\n",
       "      <td>0</td>\n",
       "      <td>...</td>\n",
       "      <td>0</td>\n",
       "      <td>1</td>\n",
       "      <td>0</td>\n",
       "      <td>0</td>\n",
       "      <td>0</td>\n",
       "      <td>0</td>\n",
       "      <td>0</td>\n",
       "      <td>0</td>\n",
       "      <td>0</td>\n",
       "      <td>0</td>\n",
       "    </tr>\n",
       "    <tr>\n",
       "      <th>4</th>\n",
       "      <td>0</td>\n",
       "      <td>0</td>\n",
       "      <td>1</td>\n",
       "      <td>0</td>\n",
       "      <td>0</td>\n",
       "      <td>0</td>\n",
       "      <td>0</td>\n",
       "      <td>0</td>\n",
       "      <td>0</td>\n",
       "      <td>1</td>\n",
       "      <td>...</td>\n",
       "      <td>0</td>\n",
       "      <td>0</td>\n",
       "      <td>0</td>\n",
       "      <td>0</td>\n",
       "      <td>0</td>\n",
       "      <td>0</td>\n",
       "      <td>0</td>\n",
       "      <td>0</td>\n",
       "      <td>0</td>\n",
       "      <td>0</td>\n",
       "    </tr>\n",
       "    <tr>\n",
       "      <th>...</th>\n",
       "      <td>...</td>\n",
       "      <td>...</td>\n",
       "      <td>...</td>\n",
       "      <td>...</td>\n",
       "      <td>...</td>\n",
       "      <td>...</td>\n",
       "      <td>...</td>\n",
       "      <td>...</td>\n",
       "      <td>...</td>\n",
       "      <td>...</td>\n",
       "      <td>...</td>\n",
       "      <td>...</td>\n",
       "      <td>...</td>\n",
       "      <td>...</td>\n",
       "      <td>...</td>\n",
       "      <td>...</td>\n",
       "      <td>...</td>\n",
       "      <td>...</td>\n",
       "      <td>...</td>\n",
       "      <td>...</td>\n",
       "      <td>...</td>\n",
       "    </tr>\n",
       "    <tr>\n",
       "      <th>550063</th>\n",
       "      <td>1</td>\n",
       "      <td>0</td>\n",
       "      <td>1</td>\n",
       "      <td>0</td>\n",
       "      <td>0</td>\n",
       "      <td>0</td>\n",
       "      <td>0</td>\n",
       "      <td>0</td>\n",
       "      <td>1</td>\n",
       "      <td>0</td>\n",
       "      <td>...</td>\n",
       "      <td>0</td>\n",
       "      <td>0</td>\n",
       "      <td>0</td>\n",
       "      <td>0</td>\n",
       "      <td>0</td>\n",
       "      <td>0</td>\n",
       "      <td>0</td>\n",
       "      <td>0</td>\n",
       "      <td>0</td>\n",
       "      <td>1</td>\n",
       "    </tr>\n",
       "    <tr>\n",
       "      <th>550064</th>\n",
       "      <td>0</td>\n",
       "      <td>1</td>\n",
       "      <td>0</td>\n",
       "      <td>0</td>\n",
       "      <td>0</td>\n",
       "      <td>1</td>\n",
       "      <td>0</td>\n",
       "      <td>0</td>\n",
       "      <td>0</td>\n",
       "      <td>0</td>\n",
       "      <td>...</td>\n",
       "      <td>0</td>\n",
       "      <td>0</td>\n",
       "      <td>0</td>\n",
       "      <td>0</td>\n",
       "      <td>0</td>\n",
       "      <td>0</td>\n",
       "      <td>0</td>\n",
       "      <td>0</td>\n",
       "      <td>0</td>\n",
       "      <td>1</td>\n",
       "    </tr>\n",
       "    <tr>\n",
       "      <th>550065</th>\n",
       "      <td>1</td>\n",
       "      <td>1</td>\n",
       "      <td>0</td>\n",
       "      <td>0</td>\n",
       "      <td>0</td>\n",
       "      <td>1</td>\n",
       "      <td>0</td>\n",
       "      <td>0</td>\n",
       "      <td>0</td>\n",
       "      <td>0</td>\n",
       "      <td>...</td>\n",
       "      <td>0</td>\n",
       "      <td>0</td>\n",
       "      <td>0</td>\n",
       "      <td>0</td>\n",
       "      <td>0</td>\n",
       "      <td>0</td>\n",
       "      <td>0</td>\n",
       "      <td>0</td>\n",
       "      <td>0</td>\n",
       "      <td>1</td>\n",
       "    </tr>\n",
       "    <tr>\n",
       "      <th>550066</th>\n",
       "      <td>0</td>\n",
       "      <td>1</td>\n",
       "      <td>0</td>\n",
       "      <td>0</td>\n",
       "      <td>0</td>\n",
       "      <td>0</td>\n",
       "      <td>0</td>\n",
       "      <td>0</td>\n",
       "      <td>0</td>\n",
       "      <td>1</td>\n",
       "      <td>...</td>\n",
       "      <td>0</td>\n",
       "      <td>0</td>\n",
       "      <td>0</td>\n",
       "      <td>0</td>\n",
       "      <td>0</td>\n",
       "      <td>0</td>\n",
       "      <td>0</td>\n",
       "      <td>0</td>\n",
       "      <td>0</td>\n",
       "      <td>1</td>\n",
       "    </tr>\n",
       "    <tr>\n",
       "      <th>550067</th>\n",
       "      <td>1</td>\n",
       "      <td>1</td>\n",
       "      <td>0</td>\n",
       "      <td>0</td>\n",
       "      <td>0</td>\n",
       "      <td>0</td>\n",
       "      <td>0</td>\n",
       "      <td>1</td>\n",
       "      <td>0</td>\n",
       "      <td>0</td>\n",
       "      <td>...</td>\n",
       "      <td>0</td>\n",
       "      <td>0</td>\n",
       "      <td>0</td>\n",
       "      <td>0</td>\n",
       "      <td>0</td>\n",
       "      <td>0</td>\n",
       "      <td>0</td>\n",
       "      <td>0</td>\n",
       "      <td>0</td>\n",
       "      <td>1</td>\n",
       "    </tr>\n",
       "  </tbody>\n",
       "</table>\n",
       "<p>550068 rows × 77 columns</p>\n",
       "</div>"
      ],
      "text/plain": [
       "        Marital_Status  Gender_F  Gender_M  Age_0-17  Age_18-25  Age_26-35  \\\n",
       "0                    0         1         0         1          0          0   \n",
       "1                    0         1         0         1          0          0   \n",
       "2                    0         1         0         1          0          0   \n",
       "3                    0         1         0         1          0          0   \n",
       "4                    0         0         1         0          0          0   \n",
       "...                ...       ...       ...       ...        ...        ...   \n",
       "550063               1         0         1         0          0          0   \n",
       "550064               0         1         0         0          0          1   \n",
       "550065               1         1         0         0          0          1   \n",
       "550066               0         1         0         0          0          0   \n",
       "550067               1         1         0         0          0          0   \n",
       "\n",
       "        Age_36-45  Age_46-50  Age_51-55  Age_55+  ...  Product_Category_1_11  \\\n",
       "0               0          0          0        0  ...                      0   \n",
       "1               0          0          0        0  ...                      0   \n",
       "2               0          0          0        0  ...                      0   \n",
       "3               0          0          0        0  ...                      0   \n",
       "4               0          0          0        1  ...                      0   \n",
       "...           ...        ...        ...      ...  ...                    ...   \n",
       "550063          0          0          1        0  ...                      0   \n",
       "550064          0          0          0        0  ...                      0   \n",
       "550065          0          0          0        0  ...                      0   \n",
       "550066          0          0          0        1  ...                      0   \n",
       "550067          0          1          0        0  ...                      0   \n",
       "\n",
       "        Product_Category_1_12  Product_Category_1_13  Product_Category_1_14  \\\n",
       "0                           0                      0                      0   \n",
       "1                           0                      0                      0   \n",
       "2                           1                      0                      0   \n",
       "3                           1                      0                      0   \n",
       "4                           0                      0                      0   \n",
       "...                       ...                    ...                    ...   \n",
       "550063                      0                      0                      0   \n",
       "550064                      0                      0                      0   \n",
       "550065                      0                      0                      0   \n",
       "550066                      0                      0                      0   \n",
       "550067                      0                      0                      0   \n",
       "\n",
       "        Product_Category_1_15  Product_Category_1_16  Product_Category_1_17  \\\n",
       "0                           0                      0                      0   \n",
       "1                           0                      0                      0   \n",
       "2                           0                      0                      0   \n",
       "3                           0                      0                      0   \n",
       "4                           0                      0                      0   \n",
       "...                       ...                    ...                    ...   \n",
       "550063                      0                      0                      0   \n",
       "550064                      0                      0                      0   \n",
       "550065                      0                      0                      0   \n",
       "550066                      0                      0                      0   \n",
       "550067                      0                      0                      0   \n",
       "\n",
       "        Product_Category_1_18  Product_Category_1_19  Product_Category_1_20  \n",
       "0                           0                      0                      0  \n",
       "1                           0                      0                      0  \n",
       "2                           0                      0                      0  \n",
       "3                           0                      0                      0  \n",
       "4                           0                      0                      0  \n",
       "...                       ...                    ...                    ...  \n",
       "550063                      0                      0                      1  \n",
       "550064                      0                      0                      1  \n",
       "550065                      0                      0                      1  \n",
       "550066                      0                      0                      1  \n",
       "550067                      0                      0                      1  \n",
       "\n",
       "[550068 rows x 77 columns]"
      ]
     },
     "execution_count": 16,
     "metadata": {},
     "output_type": "execute_result"
    }
   ],
   "source": [
    "dummy"
   ]
  },
  {
   "cell_type": "code",
   "execution_count": 17,
   "id": "edd0de91",
   "metadata": {},
   "outputs": [],
   "source": [
    "scaler=MinMaxScaler()"
   ]
  },
  {
   "cell_type": "code",
   "execution_count": 18,
   "id": "0beb85b1",
   "metadata": {},
   "outputs": [],
   "source": [
    "model=scaler.fit(dummy)"
   ]
  },
  {
   "cell_type": "code",
   "execution_count": 19,
   "id": "9aee9cc6",
   "metadata": {},
   "outputs": [],
   "source": [
    "d=model.transform(dummy)"
   ]
  },
  {
   "cell_type": "code",
   "execution_count": 20,
   "id": "51dbd4a9",
   "metadata": {},
   "outputs": [],
   "source": [
    "df=pd.DataFrame(d)"
   ]
  },
  {
   "cell_type": "code",
   "execution_count": 21,
   "id": "f7a34164",
   "metadata": {},
   "outputs": [
    {
     "data": {
      "text/html": [
       "<div>\n",
       "<style scoped>\n",
       "    .dataframe tbody tr th:only-of-type {\n",
       "        vertical-align: middle;\n",
       "    }\n",
       "\n",
       "    .dataframe tbody tr th {\n",
       "        vertical-align: top;\n",
       "    }\n",
       "\n",
       "    .dataframe thead th {\n",
       "        text-align: right;\n",
       "    }\n",
       "</style>\n",
       "<table border=\"1\" class=\"dataframe\">\n",
       "  <thead>\n",
       "    <tr style=\"text-align: right;\">\n",
       "      <th></th>\n",
       "      <th>Marital_Status</th>\n",
       "      <th>Gender_F</th>\n",
       "      <th>Gender_M</th>\n",
       "      <th>Age_0-17</th>\n",
       "      <th>Age_18-25</th>\n",
       "      <th>Age_26-35</th>\n",
       "      <th>Age_36-45</th>\n",
       "      <th>Age_46-50</th>\n",
       "      <th>Age_51-55</th>\n",
       "      <th>Age_55+</th>\n",
       "      <th>...</th>\n",
       "      <th>Product_Category_1_11</th>\n",
       "      <th>Product_Category_1_12</th>\n",
       "      <th>Product_Category_1_13</th>\n",
       "      <th>Product_Category_1_14</th>\n",
       "      <th>Product_Category_1_15</th>\n",
       "      <th>Product_Category_1_16</th>\n",
       "      <th>Product_Category_1_17</th>\n",
       "      <th>Product_Category_1_18</th>\n",
       "      <th>Product_Category_1_19</th>\n",
       "      <th>Product_Category_1_20</th>\n",
       "    </tr>\n",
       "  </thead>\n",
       "  <tbody>\n",
       "    <tr>\n",
       "      <th>0</th>\n",
       "      <td>0</td>\n",
       "      <td>1</td>\n",
       "      <td>0</td>\n",
       "      <td>1</td>\n",
       "      <td>0</td>\n",
       "      <td>0</td>\n",
       "      <td>0</td>\n",
       "      <td>0</td>\n",
       "      <td>0</td>\n",
       "      <td>0</td>\n",
       "      <td>...</td>\n",
       "      <td>0</td>\n",
       "      <td>0</td>\n",
       "      <td>0</td>\n",
       "      <td>0</td>\n",
       "      <td>0</td>\n",
       "      <td>0</td>\n",
       "      <td>0</td>\n",
       "      <td>0</td>\n",
       "      <td>0</td>\n",
       "      <td>0</td>\n",
       "    </tr>\n",
       "    <tr>\n",
       "      <th>1</th>\n",
       "      <td>0</td>\n",
       "      <td>1</td>\n",
       "      <td>0</td>\n",
       "      <td>1</td>\n",
       "      <td>0</td>\n",
       "      <td>0</td>\n",
       "      <td>0</td>\n",
       "      <td>0</td>\n",
       "      <td>0</td>\n",
       "      <td>0</td>\n",
       "      <td>...</td>\n",
       "      <td>0</td>\n",
       "      <td>0</td>\n",
       "      <td>0</td>\n",
       "      <td>0</td>\n",
       "      <td>0</td>\n",
       "      <td>0</td>\n",
       "      <td>0</td>\n",
       "      <td>0</td>\n",
       "      <td>0</td>\n",
       "      <td>0</td>\n",
       "    </tr>\n",
       "    <tr>\n",
       "      <th>2</th>\n",
       "      <td>0</td>\n",
       "      <td>1</td>\n",
       "      <td>0</td>\n",
       "      <td>1</td>\n",
       "      <td>0</td>\n",
       "      <td>0</td>\n",
       "      <td>0</td>\n",
       "      <td>0</td>\n",
       "      <td>0</td>\n",
       "      <td>0</td>\n",
       "      <td>...</td>\n",
       "      <td>0</td>\n",
       "      <td>1</td>\n",
       "      <td>0</td>\n",
       "      <td>0</td>\n",
       "      <td>0</td>\n",
       "      <td>0</td>\n",
       "      <td>0</td>\n",
       "      <td>0</td>\n",
       "      <td>0</td>\n",
       "      <td>0</td>\n",
       "    </tr>\n",
       "    <tr>\n",
       "      <th>3</th>\n",
       "      <td>0</td>\n",
       "      <td>1</td>\n",
       "      <td>0</td>\n",
       "      <td>1</td>\n",
       "      <td>0</td>\n",
       "      <td>0</td>\n",
       "      <td>0</td>\n",
       "      <td>0</td>\n",
       "      <td>0</td>\n",
       "      <td>0</td>\n",
       "      <td>...</td>\n",
       "      <td>0</td>\n",
       "      <td>1</td>\n",
       "      <td>0</td>\n",
       "      <td>0</td>\n",
       "      <td>0</td>\n",
       "      <td>0</td>\n",
       "      <td>0</td>\n",
       "      <td>0</td>\n",
       "      <td>0</td>\n",
       "      <td>0</td>\n",
       "    </tr>\n",
       "    <tr>\n",
       "      <th>4</th>\n",
       "      <td>0</td>\n",
       "      <td>0</td>\n",
       "      <td>1</td>\n",
       "      <td>0</td>\n",
       "      <td>0</td>\n",
       "      <td>0</td>\n",
       "      <td>0</td>\n",
       "      <td>0</td>\n",
       "      <td>0</td>\n",
       "      <td>1</td>\n",
       "      <td>...</td>\n",
       "      <td>0</td>\n",
       "      <td>0</td>\n",
       "      <td>0</td>\n",
       "      <td>0</td>\n",
       "      <td>0</td>\n",
       "      <td>0</td>\n",
       "      <td>0</td>\n",
       "      <td>0</td>\n",
       "      <td>0</td>\n",
       "      <td>0</td>\n",
       "    </tr>\n",
       "  </tbody>\n",
       "</table>\n",
       "<p>5 rows × 77 columns</p>\n",
       "</div>"
      ],
      "text/plain": [
       "   Marital_Status  Gender_F  Gender_M  Age_0-17  Age_18-25  Age_26-35  \\\n",
       "0               0         1         0         1          0          0   \n",
       "1               0         1         0         1          0          0   \n",
       "2               0         1         0         1          0          0   \n",
       "3               0         1         0         1          0          0   \n",
       "4               0         0         1         0          0          0   \n",
       "\n",
       "   Age_36-45  Age_46-50  Age_51-55  Age_55+  ...  Product_Category_1_11  \\\n",
       "0          0          0          0        0  ...                      0   \n",
       "1          0          0          0        0  ...                      0   \n",
       "2          0          0          0        0  ...                      0   \n",
       "3          0          0          0        0  ...                      0   \n",
       "4          0          0          0        1  ...                      0   \n",
       "\n",
       "   Product_Category_1_12  Product_Category_1_13  Product_Category_1_14  \\\n",
       "0                      0                      0                      0   \n",
       "1                      0                      0                      0   \n",
       "2                      1                      0                      0   \n",
       "3                      1                      0                      0   \n",
       "4                      0                      0                      0   \n",
       "\n",
       "   Product_Category_1_15  Product_Category_1_16  Product_Category_1_17  \\\n",
       "0                      0                      0                      0   \n",
       "1                      0                      0                      0   \n",
       "2                      0                      0                      0   \n",
       "3                      0                      0                      0   \n",
       "4                      0                      0                      0   \n",
       "\n",
       "   Product_Category_1_18  Product_Category_1_19  Product_Category_1_20  \n",
       "0                      0                      0                      0  \n",
       "1                      0                      0                      0  \n",
       "2                      0                      0                      0  \n",
       "3                      0                      0                      0  \n",
       "4                      0                      0                      0  \n",
       "\n",
       "[5 rows x 77 columns]"
      ]
     },
     "execution_count": 21,
     "metadata": {},
     "output_type": "execute_result"
    }
   ],
   "source": [
    "dummy.head()"
   ]
  },
  {
   "cell_type": "code",
   "execution_count": null,
   "id": "a1812466",
   "metadata": {},
   "outputs": [],
   "source": []
  },
  {
   "cell_type": "code",
   "execution_count": 22,
   "id": "5e848c84",
   "metadata": {},
   "outputs": [],
   "source": [
    "trainx,testx=train_test_split(df,test_size=0.2)\n"
   ]
  },
  {
   "cell_type": "markdown",
   "id": "eb1f7df9",
   "metadata": {},
   "source": [
    "<h1>LINEAR REGRESSION<h1>"
   ]
  },
  {
   "cell_type": "code",
   "execution_count": 23,
   "id": "8646fb47",
   "metadata": {},
   "outputs": [],
   "source": [
    "reg = LinearRegression().fit(trainx,trainy)\n"
   ]
  },
  {
   "cell_type": "code",
   "execution_count": 24,
   "id": "a780c901",
   "metadata": {},
   "outputs": [
    {
     "data": {
      "text/plain": [
       "array([9402., 9272., 9227., ..., 9313., 9284., 9295.])"
      ]
     },
     "execution_count": 24,
     "metadata": {},
     "output_type": "execute_result"
    }
   ],
   "source": [
    "reg.predict(testx)"
   ]
  },
  {
   "cell_type": "markdown",
   "id": "bdb7a785",
   "metadata": {},
   "source": []
  },
  {
   "cell_type": "code",
   "execution_count": 25,
   "id": "9d0ab8df",
   "metadata": {},
   "outputs": [],
   "source": [
    "reg1 = DecisionTreeRegressor(random_state=0).fit(trainx,trainy)"
   ]
  },
  {
   "cell_type": "code",
   "execution_count": 26,
   "id": "5a3b3769",
   "metadata": {},
   "outputs": [
    {
     "data": {
      "text/plain": [
       "array([ 7145.        ,  8604.2       ,  7979.15789474, ...,\n",
       "        9212.28571429,  9192.66666667, 11925.6       ])"
      ]
     },
     "execution_count": 26,
     "metadata": {},
     "output_type": "execute_result"
    }
   ],
   "source": [
    "reg1.predict(testx)"
   ]
  },
  {
   "cell_type": "markdown",
   "id": "958bcd6a",
   "metadata": {},
   "source": [
    "<h1>Random Forest Regressor<h1>"
   ]
  },
  {
   "cell_type": "code",
   "execution_count": 27,
   "id": "6e743b5d",
   "metadata": {},
   "outputs": [],
   "source": [
    "reg3 = RandomForestRegressor(max_depth=2, random_state=0).fit(trainx,trainy)"
   ]
  },
  {
   "cell_type": "code",
   "execution_count": 28,
   "id": "330e6b26",
   "metadata": {},
   "outputs": [
    {
     "data": {
      "text/plain": [
       "array([9267.43799144, 9251.1026541 , 9250.19038011, ..., 9305.90589556,\n",
       "       9260.40492709, 9264.2723001 ])"
      ]
     },
     "execution_count": 28,
     "metadata": {},
     "output_type": "execute_result"
    }
   ],
   "source": [
    "reg3.predict(testx)"
   ]
  },
  {
   "cell_type": "markdown",
   "id": "62e85d6a",
   "metadata": {},
   "source": [
    "<h1>Ada Boost Regressor<h1>"
   ]
  },
  {
   "cell_type": "code",
   "execution_count": 29,
   "id": "093c5364",
   "metadata": {},
   "outputs": [],
   "source": [
    "regr = AdaBoostRegressor(random_state=0, n_estimators=100).fit(trainx,trainy)"
   ]
  },
  {
   "cell_type": "code",
   "execution_count": 30,
   "id": "a01899cb",
   "metadata": {},
   "outputs": [
    {
     "data": {
      "text/plain": [
       "array([10022.85230529, 10022.85230529, 10022.85230529, ...,\n",
       "       10022.85230529, 10022.85230529, 10022.85230529])"
      ]
     },
     "execution_count": 30,
     "metadata": {},
     "output_type": "execute_result"
    }
   ],
   "source": [
    "regr.predict(testx)"
   ]
  },
  {
   "cell_type": "markdown",
   "id": "a1e578c0",
   "metadata": {},
   "source": [
    "<h1>Gradient Boosting Regressor<h1>"
   ]
  },
  {
   "cell_type": "code",
   "execution_count": 31,
   "id": "4df0c8ce",
   "metadata": {},
   "outputs": [],
   "source": [
    "clf = GradientBoostingRegressor(random_state=0).fit(trainx,trainy)"
   ]
  },
  {
   "cell_type": "code",
   "execution_count": 32,
   "id": "c5584152",
   "metadata": {},
   "outputs": [
    {
     "data": {
      "text/plain": [
       "array([9269.41265905, 9213.71818876, 9197.80453667, ..., 9402.05833781,\n",
       "       9252.72785636, 9290.05533404])"
      ]
     },
     "execution_count": 32,
     "metadata": {},
     "output_type": "execute_result"
    }
   ],
   "source": [
    "clf.predict(testx)"
   ]
  },
  {
   "cell_type": "code",
   "execution_count": 33,
   "id": "316fa3f4",
   "metadata": {},
   "outputs": [
    {
     "name": "stdout",
     "output_type": "stream",
     "text": [
      "LinearRegression          =  -6.772384002284859e-05\n",
      "Decision Tree Regressor   =  -0.21938392681619168\n",
      "RandomForestRegressor     =  6.693386967349113e-06\n",
      "AdaBoostRegressor         =  -0.021859380277859275\n",
      "GradientBoostingRegressor =  -0.00016132585627737228\n"
     ]
    }
   ],
   "source": [
    "print(\"LinearRegression          = \",reg.score(testx,testy))\n",
    "print(\"Decision Tree Regressor   = \",reg1.score(testx,testy))\n",
    "print(\"RandomForestRegressor     = \",reg3.score(testx,testy))\n",
    "print(\"AdaBoostRegressor         = \",regr.score(testx,testy))\n",
    "print(\"GradientBoostingRegressor = \",clf.score(testx,testy))"
   ]
  },
  {
   "cell_type": "markdown",
   "id": "8dffbb58",
   "metadata": {},
   "source": [
    "<h1>dimension reduvtion<h1>"
   ]
  },
  {
   "cell_type": "markdown",
   "id": "ea25134a",
   "metadata": {},
   "source": [
    "<h1>PCA<h1>"
   ]
  },
  {
   "cell_type": "code",
   "execution_count": 34,
   "id": "b79018d4",
   "metadata": {},
   "outputs": [],
   "source": [
    "pca = PCA()"
   ]
  },
  {
   "cell_type": "code",
   "execution_count": 35,
   "id": "fcfc05b4",
   "metadata": {},
   "outputs": [
    {
     "data": {
      "text/plain": [
       "PCA()"
      ]
     },
     "execution_count": 35,
     "metadata": {},
     "output_type": "execute_result"
    }
   ],
   "source": [
    "pca.fit(trainx)"
   ]
  },
  {
   "cell_type": "code",
   "execution_count": 36,
   "id": "ef1dfb7e",
   "metadata": {},
   "outputs": [
    {
     "name": "stdout",
     "output_type": "stream",
     "text": [
      "[7.43278750e-02 6.88444482e-02 6.39861264e-02 6.04524079e-02\n",
      " 5.64163372e-02 5.15528613e-02 4.80862442e-02 4.60646344e-02\n",
      " 3.93395486e-02 3.33140703e-02 3.25617775e-02 2.99724541e-02\n",
      " 2.62474955e-02 2.24707744e-02 2.18756978e-02 2.05168248e-02\n",
      " 1.91338484e-02 1.80947395e-02 1.50095754e-02 1.46428598e-02\n",
      " 1.42022344e-02 1.35070046e-02 1.24629257e-02 1.22558176e-02\n",
      " 1.17554887e-02 1.08702730e-02 1.06032672e-02 9.96143349e-03\n",
      " 9.50755429e-03 9.09040518e-03 9.01516005e-03 8.45641104e-03\n",
      " 7.79887601e-03 7.54605495e-03 6.96009785e-03 6.61951455e-03\n",
      " 6.34380769e-03 6.11796687e-03 4.93980643e-03 4.60953925e-03\n",
      " 4.42311799e-03 4.09970265e-03 4.01883031e-03 3.94871167e-03\n",
      " 3.75578953e-03 2.95985060e-03 2.81770302e-03 2.39188296e-03\n",
      " 2.35207384e-03 2.12973189e-03 2.08217944e-03 2.04200475e-03\n",
      " 1.96172540e-03 1.86365488e-03 1.65970995e-03 1.41505906e-03\n",
      " 1.30508018e-03 1.26493321e-03 1.08197215e-03 1.06464616e-03\n",
      " 1.05424551e-03 9.12600764e-04 8.79135640e-04 7.73568407e-04\n",
      " 5.67272956e-04 5.44696656e-04 5.17713375e-04 2.23306544e-04\n",
      " 2.09908323e-04 1.44952565e-04 2.89570388e-28 9.83490044e-29\n",
      " 6.76683875e-29 2.38453563e-29 1.61487585e-29 4.53360496e-30\n",
      " 3.42122725e-32]\n"
     ]
    }
   ],
   "source": [
    "print(pca.explained_variance_ratio_)"
   ]
  },
  {
   "cell_type": "code",
   "execution_count": 37,
   "id": "5ee7e72d",
   "metadata": {
    "scrolled": true
   },
   "outputs": [
    {
     "name": "stdout",
     "output_type": "stream",
     "text": [
      "[4.19255742e+02 4.03494503e+02 3.88996837e+02 3.78102860e+02\n",
      " 3.65262934e+02 3.49164070e+02 3.37220206e+02 3.30055501e+02\n",
      " 3.05012647e+02 2.80683582e+02 2.77496310e+02 2.66234488e+02\n",
      " 2.49142086e+02 2.30521895e+02 2.27449045e+02 2.20271463e+02\n",
      " 2.12718041e+02 2.06861337e+02 1.88402805e+02 1.86087033e+02\n",
      " 1.83265830e+02 1.78723921e+02 1.71677414e+02 1.70244976e+02\n",
      " 1.66733745e+02 1.60333172e+02 1.58351803e+02 1.53484343e+02\n",
      " 1.49946926e+02 1.46620529e+02 1.46012448e+02 1.41415236e+02\n",
      " 1.35806066e+02 1.33586676e+02 1.28295326e+02 1.25116974e+02\n",
      " 1.22483663e+02 1.20283684e+02 1.08083183e+02 1.04407553e+02\n",
      " 1.02274514e+02 9.84644229e+01 9.74884118e+01 9.66342036e+01\n",
      " 9.42440160e+01 8.36638904e+01 8.16301829e+01 7.52095731e+01\n",
      " 7.45810746e+01 7.09685002e+01 7.01717386e+01 6.94914757e+01\n",
      " 6.81117860e+01 6.63874376e+01 6.26497381e+01 5.78482790e+01\n",
      " 5.55548216e+01 5.46936564e+01 5.05837708e+01 5.01771287e+01\n",
      " 4.99314341e+01 4.64561884e+01 4.55964576e+01 4.27713071e+01\n",
      " 3.66268188e+01 3.58905832e+01 3.49903151e+01 2.29802043e+01\n",
      " 2.22801438e+01 1.85146758e+01 2.61685847e-11 1.52506426e-11\n",
      " 1.26501616e-11 7.50939707e-12 6.17977596e-12 3.27434923e-12\n",
      " 2.84442261e-13]\n"
     ]
    }
   ],
   "source": [
    "print(pca.singular_values_)"
   ]
  },
  {
   "cell_type": "code",
   "execution_count": null,
   "id": "925bdb50",
   "metadata": {},
   "outputs": [],
   "source": []
  },
  {
   "cell_type": "code",
   "execution_count": 38,
   "id": "5f15c2d2",
   "metadata": {},
   "outputs": [
    {
     "data": {
      "text/plain": [
       "[<matplotlib.lines.Line2D at 0x2328629b280>]"
      ]
     },
     "execution_count": 38,
     "metadata": {},
     "output_type": "execute_result"
    },
    {
     "data": {
      "image/png": "[encoded data removed]",
      "text/plain": [
       "<Figure size 432x288 with 1 Axes>"
      ]
     },
     "metadata": {
      "needs_background": "light"
     },
     "output_type": "display_data"
    }
   ],
   "source": [
    "plt.plot(pca.explained_variance_ratio_)"
   ]
  },
  {
   "cell_type": "code",
   "execution_count": 39,
   "id": "e39e7c9b",
   "metadata": {},
   "outputs": [
    {
     "data": {
      "text/plain": [
       "array([0.07432788, 0.14317232, 0.20715845, 0.26761086, 0.32402719,\n",
       "       0.37558006, 0.4236663 , 0.46973093, 0.50907048, 0.54238455,\n",
       "       0.57494633, 0.60491879, 0.63116628, 0.65363706, 0.67551275,\n",
       "       0.69602958, 0.71516343, 0.73325817, 0.74826774, 0.7629106 ,\n",
       "       0.77711284, 0.79061984, 0.80308277, 0.81533858, 0.82709407,\n",
       "       0.83796434, 0.84856761, 0.85852905, 0.8680366 , 0.877127  ,\n",
       "       0.88614217, 0.89459858, 0.90239745, 0.90994351, 0.9169036 ,\n",
       "       0.92352312, 0.92986693, 0.93598489, 0.9409247 , 0.94553424,\n",
       "       0.94995736, 0.95405706, 0.95807589, 0.9620246 , 0.96578039,\n",
       "       0.96874024, 0.97155795, 0.97394983, 0.9763019 , 0.97843163,\n",
       "       0.98051381, 0.98255582, 0.98451754, 0.9863812 , 0.98804091,\n",
       "       0.98945597, 0.99076105, 0.99202598, 0.99310795, 0.9941726 ,\n",
       "       0.99522684, 0.99613945, 0.99701858, 0.99779215, 0.99835942,\n",
       "       0.99890412, 0.99942183, 0.99964514, 0.99985505, 1.        ,\n",
       "       1.        , 1.        , 1.        , 1.        , 1.        ,\n",
       "       1.        , 1.        ])"
      ]
     },
     "execution_count": 39,
     "metadata": {},
     "output_type": "execute_result"
    }
   ],
   "source": [
    "np.cumsum(pca.explained_variance_ratio_)"
   ]
  },
  {
   "cell_type": "code",
   "execution_count": 40,
   "id": "f7246c92",
   "metadata": {},
   "outputs": [
    {
     "data": {
      "text/plain": [
       "[<matplotlib.lines.Line2D at 0x2328639b580>]"
      ]
     },
     "execution_count": 40,
     "metadata": {},
     "output_type": "execute_result"
    },
    {
     "data": {
      "image/png": "[encoded data removed]",
      "text/plain": [
       "<Figure size 432x288 with 1 Axes>"
      ]
     },
     "metadata": {
      "needs_background": "light"
     },
     "output_type": "display_data"
    }
   ],
   "source": [
    "plt.plot(np.cumsum(pca.explained_variance_ratio_))"
   ]
  },
  {
   "cell_type": "code",
   "execution_count": 41,
   "id": "251d676e",
   "metadata": {},
   "outputs": [],
   "source": [
    "pca=PCA(n_components=56).fit(trainx)"
   ]
  },
  {
   "cell_type": "code",
   "execution_count": 42,
   "id": "d1538717",
   "metadata": {},
   "outputs": [],
   "source": [
    "cp=pca.transform(trainx)"
   ]
  },
  {
   "cell_type": "code",
   "execution_count": 43,
   "id": "799e2c91",
   "metadata": {},
   "outputs": [],
   "source": [
    "cp=pd.DataFrame(cp)"
   ]
  },
  {
   "cell_type": "code",
   "execution_count": 44,
   "id": "e27332f7",
   "metadata": {},
   "outputs": [
    {
     "data": {
      "text/html": [
       "<div>\n",
       "<style scoped>\n",
       "    .dataframe tbody tr th:only-of-type {\n",
       "        vertical-align: middle;\n",
       "    }\n",
       "\n",
       "    .dataframe tbody tr th {\n",
       "        vertical-align: top;\n",
       "    }\n",
       "\n",
       "    .dataframe thead th {\n",
       "        text-align: right;\n",
       "    }\n",
       "</style>\n",
       "<table border=\"1\" class=\"dataframe\">\n",
       "  <thead>\n",
       "    <tr style=\"text-align: right;\">\n",
       "      <th></th>\n",
       "      <th>0</th>\n",
       "      <th>1</th>\n",
       "      <th>2</th>\n",
       "      <th>3</th>\n",
       "      <th>4</th>\n",
       "      <th>5</th>\n",
       "      <th>6</th>\n",
       "      <th>7</th>\n",
       "      <th>8</th>\n",
       "      <th>9</th>\n",
       "      <th>...</th>\n",
       "      <th>46</th>\n",
       "      <th>47</th>\n",
       "      <th>48</th>\n",
       "      <th>49</th>\n",
       "      <th>50</th>\n",
       "      <th>51</th>\n",
       "      <th>52</th>\n",
       "      <th>53</th>\n",
       "      <th>54</th>\n",
       "      <th>55</th>\n",
       "    </tr>\n",
       "  </thead>\n",
       "  <tbody>\n",
       "    <tr>\n",
       "      <th>0</th>\n",
       "      <td>-0.037545</td>\n",
       "      <td>0.530104</td>\n",
       "      <td>0.637433</td>\n",
       "      <td>-0.406309</td>\n",
       "      <td>-1.259585</td>\n",
       "      <td>0.052656</td>\n",
       "      <td>-0.479964</td>\n",
       "      <td>-0.704108</td>\n",
       "      <td>0.327580</td>\n",
       "      <td>-0.040867</td>\n",
       "      <td>...</td>\n",
       "      <td>0.015408</td>\n",
       "      <td>-0.013780</td>\n",
       "      <td>-0.009978</td>\n",
       "      <td>0.001821</td>\n",
       "      <td>-0.000740</td>\n",
       "      <td>0.002424</td>\n",
       "      <td>-0.006924</td>\n",
       "      <td>-0.002565</td>\n",
       "      <td>-0.001215</td>\n",
       "      <td>0.014803</td>\n",
       "    </tr>\n",
       "    <tr>\n",
       "      <th>1</th>\n",
       "      <td>-0.084089</td>\n",
       "      <td>-0.660350</td>\n",
       "      <td>-0.244939</td>\n",
       "      <td>-0.609485</td>\n",
       "      <td>0.377599</td>\n",
       "      <td>-0.300590</td>\n",
       "      <td>-0.646056</td>\n",
       "      <td>0.016358</td>\n",
       "      <td>-0.693805</td>\n",
       "      <td>0.906993</td>\n",
       "      <td>...</td>\n",
       "      <td>0.000988</td>\n",
       "      <td>0.021760</td>\n",
       "      <td>-0.059015</td>\n",
       "      <td>-0.009648</td>\n",
       "      <td>-0.070731</td>\n",
       "      <td>-0.004379</td>\n",
       "      <td>0.051862</td>\n",
       "      <td>-0.004148</td>\n",
       "      <td>-0.187685</td>\n",
       "      <td>-0.193025</td>\n",
       "    </tr>\n",
       "    <tr>\n",
       "      <th>2</th>\n",
       "      <td>-0.674889</td>\n",
       "      <td>0.181869</td>\n",
       "      <td>0.340914</td>\n",
       "      <td>1.024690</td>\n",
       "      <td>-0.733048</td>\n",
       "      <td>0.417092</td>\n",
       "      <td>-0.282303</td>\n",
       "      <td>0.578039</td>\n",
       "      <td>0.262862</td>\n",
       "      <td>-0.006367</td>\n",
       "      <td>...</td>\n",
       "      <td>-0.242403</td>\n",
       "      <td>-0.048833</td>\n",
       "      <td>0.128690</td>\n",
       "      <td>-0.033093</td>\n",
       "      <td>0.002227</td>\n",
       "      <td>0.006836</td>\n",
       "      <td>0.011428</td>\n",
       "      <td>-0.033961</td>\n",
       "      <td>-0.043976</td>\n",
       "      <td>0.114655</td>\n",
       "    </tr>\n",
       "    <tr>\n",
       "      <th>3</th>\n",
       "      <td>-0.509057</td>\n",
       "      <td>0.671208</td>\n",
       "      <td>-0.389995</td>\n",
       "      <td>-0.613261</td>\n",
       "      <td>0.194082</td>\n",
       "      <td>-0.191420</td>\n",
       "      <td>0.043020</td>\n",
       "      <td>-0.024481</td>\n",
       "      <td>-0.834420</td>\n",
       "      <td>0.011814</td>\n",
       "      <td>...</td>\n",
       "      <td>-0.061360</td>\n",
       "      <td>0.036612</td>\n",
       "      <td>-0.144192</td>\n",
       "      <td>-0.000876</td>\n",
       "      <td>0.097654</td>\n",
       "      <td>-0.001439</td>\n",
       "      <td>0.037179</td>\n",
       "      <td>0.022114</td>\n",
       "      <td>-0.104188</td>\n",
       "      <td>0.068620</td>\n",
       "    </tr>\n",
       "    <tr>\n",
       "      <th>4</th>\n",
       "      <td>-0.061834</td>\n",
       "      <td>-0.685277</td>\n",
       "      <td>-0.180297</td>\n",
       "      <td>-0.549841</td>\n",
       "      <td>0.485491</td>\n",
       "      <td>-0.248994</td>\n",
       "      <td>0.857956</td>\n",
       "      <td>0.468086</td>\n",
       "      <td>-0.769624</td>\n",
       "      <td>0.901231</td>\n",
       "      <td>...</td>\n",
       "      <td>-0.040408</td>\n",
       "      <td>-0.015891</td>\n",
       "      <td>0.036238</td>\n",
       "      <td>-0.006572</td>\n",
       "      <td>-0.022653</td>\n",
       "      <td>-0.009157</td>\n",
       "      <td>0.003771</td>\n",
       "      <td>-0.007010</td>\n",
       "      <td>0.002770</td>\n",
       "      <td>0.006451</td>\n",
       "    </tr>\n",
       "  </tbody>\n",
       "</table>\n",
       "<p>5 rows × 56 columns</p>\n",
       "</div>"
      ],
      "text/plain": [
       "         0         1         2         3         4         5         6   \\\n",
       "0 -0.037545  0.530104  0.637433 -0.406309 -1.259585  0.052656 -0.479964   \n",
       "1 -0.084089 -0.660350 -0.244939 -0.609485  0.377599 -0.300590 -0.646056   \n",
       "2 -0.674889  0.181869  0.340914  1.024690 -0.733048  0.417092 -0.282303   \n",
       "3 -0.509057  0.671208 -0.389995 -0.613261  0.194082 -0.191420  0.043020   \n",
       "4 -0.061834 -0.685277 -0.180297 -0.549841  0.485491 -0.248994  0.857956   \n",
       "\n",
       "         7         8         9   ...        46        47        48        49  \\\n",
       "0 -0.704108  0.327580 -0.040867  ...  0.015408 -0.013780 -0.009978  0.001821   \n",
       "1  0.016358 -0.693805  0.906993  ...  0.000988  0.021760 -0.059015 -0.009648   \n",
       "2  0.578039  0.262862 -0.006367  ... -0.242403 -0.048833  0.128690 -0.033093   \n",
       "3 -0.024481 -0.834420  0.011814  ... -0.061360  0.036612 -0.144192 -0.000876   \n",
       "4  0.468086 -0.769624  0.901231  ... -0.040408 -0.015891  0.036238 -0.006572   \n",
       "\n",
       "         50        51        52        53        54        55  \n",
       "0 -0.000740  0.002424 -0.006924 -0.002565 -0.001215  0.014803  \n",
       "1 -0.070731 -0.004379  0.051862 -0.004148 -0.187685 -0.193025  \n",
       "2  0.002227  0.006836  0.011428 -0.033961 -0.043976  0.114655  \n",
       "3  0.097654 -0.001439  0.037179  0.022114 -0.104188  0.068620  \n",
       "4 -0.022653 -0.009157  0.003771 -0.007010  0.002770  0.006451  \n",
       "\n",
       "[5 rows x 56 columns]"
      ]
     },
     "execution_count": 44,
     "metadata": {},
     "output_type": "execute_result"
    }
   ],
   "source": [
    "cp.head()"
   ]
  },
  {
   "cell_type": "code",
   "execution_count": 45,
   "id": "8c0f1a2e",
   "metadata": {},
   "outputs": [
    {
     "data": {
      "text/plain": [
       "[<matplotlib.lines.Line2D at 0x23286405100>]"
      ]
     },
     "execution_count": 45,
     "metadata": {},
     "output_type": "execute_result"
    },
    {
     "data": {
      "image/png": "[encoded data removed]",
      "text/plain": [
       "<Figure size 432x288 with 1 Axes>"
      ]
     },
     "metadata": {
      "needs_background": "light"
     },
     "output_type": "display_data"
    }
   ],
   "source": [
    "plt.plot(pca.explained_variance_ratio_)"
   ]
  },
  {
   "cell_type": "code",
   "execution_count": 46,
   "id": "3f450982",
   "metadata": {},
   "outputs": [
    {
     "data": {
      "text/plain": [
       "[<matplotlib.lines.Line2D at 0x23286461550>]"
      ]
     },
     "execution_count": 46,
     "metadata": {},
     "output_type": "execute_result"
    },
    {
     "data": {
      "image/png": "[encoded data removed]",
      "text/plain": [
       "<Figure size 432x288 with 1 Axes>"
      ]
     },
     "metadata": {
      "needs_background": "light"
     },
     "output_type": "display_data"
    }
   ],
   "source": [
    "plt.plot(np.cumsum(pca.explained_variance_ratio_))"
   ]
  },
  {
   "cell_type": "code",
   "execution_count": null,
   "id": "99546f6d",
   "metadata": {},
   "outputs": [],
   "source": []
  }
 ],
 "metadata": {
  "kernelspec": {
   "display_name": "Python 3 (ipykernel)",
   "language": "python",
   "name": "python3"
  },
  "language_info": {
   "codemirror_mode": {
    "name": "ipython",
    "version": 3
   },
   "file_extension": ".py",
   "mimetype": "text/x-python",
   "name": "python",
   "nbconvert_exporter": "python",
   "pygments_lexer": "ipython3",
   "version": "3.9.7"
  }
 },
 "nbformat": 4,
 "nbformat_minor": 5
}
